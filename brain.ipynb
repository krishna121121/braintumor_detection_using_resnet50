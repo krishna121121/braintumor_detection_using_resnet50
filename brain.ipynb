{
 "cells": [
  {
   "cell_type": "code",
   "execution_count": 12,
   "metadata": {},
   "outputs": [
    {
     "name": "stdout",
     "output_type": "stream",
     "text": [
      "[INFO] Using device: cuda\n"
     ]
    },
    {
     "name": "stderr",
     "output_type": "stream",
     "text": [
      "C:\\Users\\Krishna Madhav Jha\\AppData\\Local\\Temp\\ipykernel_4024\\4214833513.py:164: FutureWarning: `torch.cuda.amp.GradScaler(args...)` is deprecated. Please use `torch.amp.GradScaler('cuda', args...)` instead.\n",
      "  scaler = GradScaler(enabled=Config.MIXED_PRECISION)\n",
      "C:\\Users\\Krishna Madhav Jha\\AppData\\Local\\Temp\\ipykernel_4024\\4214833513.py:260: FutureWarning: `torch.cuda.amp.autocast(args...)` is deprecated. Please use `torch.amp.autocast('cuda', args...)` instead.\n",
      "  with autocast(enabled=Config.MIXED_PRECISION):\n"
     ]
    },
    {
     "name": "stdout",
     "output_type": "stream",
     "text": [
      "[INFO] New best accuracy: 75.13%\n",
      "\n",
      "Epoch 1/50 [56.5s]\n",
      "Train Loss: 0.9975 | Acc: 68.22%\n",
      "Test Loss: 0.7144 | Acc: 75.13%\n",
      "Current LR: 1.00e-04\n"
     ]
    },
    {
     "name": "stderr",
     "output_type": "stream",
     "text": [
      "C:\\Users\\Krishna Madhav Jha\\AppData\\Local\\Temp\\ipykernel_4024\\4214833513.py:211: FutureWarning: `torch.cuda.amp.autocast(args...)` is deprecated. Please use `torch.amp.autocast('cuda', args...)` instead.\n",
      "  with torch.enable_grad(), autocast(enabled=Config.MIXED_PRECISION):\n",
      "100%|██████████| 128/128 [00:06<00:00, 21.03it/s]\n",
      "100%|██████████| 128/128 [00:05<00:00, 21.46it/s]\n",
      "100%|██████████| 128/128 [00:05<00:00, 21.42it/s]\n",
      "100%|██████████| 128/128 [00:05<00:00, 21.38it/s]\n"
     ]
    },
    {
     "name": "stdout",
     "output_type": "stream",
     "text": [
      "[INFO] New best accuracy: 80.09%\n",
      "\n",
      "Epoch 2/50 [56.2s]\n",
      "Train Loss: 0.4155 | Acc: 86.40%\n",
      "Test Loss: 0.5153 | Acc: 80.09%\n",
      "Current LR: 1.00e-04\n"
     ]
    },
    {
     "name": "stderr",
     "output_type": "stream",
     "text": [
      "100%|██████████| 128/128 [00:06<00:00, 21.14it/s]\n",
      "100%|██████████| 128/128 [00:05<00:00, 21.36it/s]\n",
      "100%|██████████| 128/128 [00:06<00:00, 21.33it/s]\n",
      "100%|██████████| 128/128 [00:06<00:00, 21.29it/s]\n"
     ]
    },
    {
     "name": "stdout",
     "output_type": "stream",
     "text": [
      "[INFO] New best accuracy: 84.44%\n",
      "\n",
      "Epoch 3/50 [56.6s]\n",
      "Train Loss: 0.2869 | Acc: 89.99%\n",
      "Test Loss: 0.4000 | Acc: 84.44%\n",
      "Current LR: 1.00e-04\n"
     ]
    },
    {
     "name": "stderr",
     "output_type": "stream",
     "text": [
      "100%|██████████| 128/128 [00:06<00:00, 21.17it/s]\n",
      "100%|██████████| 128/128 [00:05<00:00, 21.37it/s]\n",
      "100%|██████████| 128/128 [00:05<00:00, 21.35it/s]\n",
      "100%|██████████| 128/128 [00:06<00:00, 21.27it/s]\n"
     ]
    },
    {
     "name": "stdout",
     "output_type": "stream",
     "text": [
      "[INFO] New best accuracy: 86.42%\n",
      "\n",
      "Epoch 4/50 [56.1s]\n",
      "Train Loss: 0.2206 | Acc: 92.54%\n",
      "Test Loss: 0.3646 | Acc: 86.42%\n",
      "Current LR: 1.00e-04\n"
     ]
    },
    {
     "name": "stderr",
     "output_type": "stream",
     "text": [
      "100%|██████████| 128/128 [00:06<00:00, 21.11it/s]\n",
      "100%|██████████| 128/128 [00:06<00:00, 21.33it/s]\n",
      "100%|██████████| 128/128 [00:05<00:00, 21.35it/s]\n",
      "100%|██████████| 128/128 [00:06<00:00, 21.29it/s]\n"
     ]
    },
    {
     "name": "stdout",
     "output_type": "stream",
     "text": [
      "[INFO] New best accuracy: 89.32%\n",
      "\n",
      "Epoch 5/50 [56.3s]\n",
      "Train Loss: 0.1827 | Acc: 93.94%\n",
      "Test Loss: 0.2684 | Acc: 89.32%\n",
      "Current LR: 1.00e-04\n"
     ]
    },
    {
     "name": "stderr",
     "output_type": "stream",
     "text": [
      "100%|██████████| 128/128 [00:06<00:00, 21.14it/s]\n",
      "100%|██████████| 128/128 [00:06<00:00, 21.32it/s]\n",
      "100%|██████████| 128/128 [00:05<00:00, 21.40it/s]\n",
      "100%|██████████| 128/128 [00:06<00:00, 21.33it/s]\n"
     ]
    },
    {
     "name": "stdout",
     "output_type": "stream",
     "text": [
      "[INFO] New best accuracy: 91.99%\n",
      "\n",
      "Epoch 6/50 [56.2s]\n",
      "Train Loss: 0.1547 | Acc: 94.92%\n",
      "Test Loss: 0.2038 | Acc: 91.99%\n",
      "Current LR: 1.00e-04\n"
     ]
    },
    {
     "name": "stderr",
     "output_type": "stream",
     "text": [
      "100%|██████████| 128/128 [00:06<00:00, 21.15it/s]\n",
      "100%|██████████| 128/128 [00:05<00:00, 21.34it/s]\n",
      "100%|██████████| 128/128 [00:05<00:00, 21.38it/s]\n",
      "100%|██████████| 128/128 [00:06<00:00, 21.30it/s]\n"
     ]
    },
    {
     "name": "stdout",
     "output_type": "stream",
     "text": [
      "[INFO] New best accuracy: 92.22%\n",
      "\n",
      "Epoch 7/50 [56.3s]\n",
      "Train Loss: 0.1327 | Acc: 95.59%\n",
      "Test Loss: 0.1899 | Acc: 92.22%\n",
      "Current LR: 1.00e-04\n"
     ]
    },
    {
     "name": "stderr",
     "output_type": "stream",
     "text": [
      "100%|██████████| 128/128 [00:06<00:00, 21.12it/s]\n",
      "100%|██████████| 128/128 [00:06<00:00, 21.27it/s]\n",
      "100%|██████████| 128/128 [00:05<00:00, 21.33it/s]\n",
      "100%|██████████| 128/128 [00:06<00:00, 21.30it/s]\n"
     ]
    },
    {
     "name": "stdout",
     "output_type": "stream",
     "text": [
      "[INFO] New best accuracy: 93.75%\n",
      "\n",
      "Epoch 8/50 [56.3s]\n",
      "Train Loss: 0.1173 | Acc: 96.15%\n",
      "Test Loss: 0.1638 | Acc: 93.75%\n",
      "Current LR: 1.00e-04\n"
     ]
    },
    {
     "name": "stderr",
     "output_type": "stream",
     "text": [
      "100%|██████████| 128/128 [00:06<00:00, 21.14it/s]\n",
      "100%|██████████| 128/128 [00:06<00:00, 21.29it/s]\n",
      "100%|██████████| 128/128 [00:06<00:00, 21.28it/s]\n",
      "100%|██████████| 128/128 [00:06<00:00, 21.28it/s]\n"
     ]
    },
    {
     "name": "stdout",
     "output_type": "stream",
     "text": [
      "[INFO] New best accuracy: 94.05%\n",
      "\n",
      "Epoch 9/50 [56.2s]\n",
      "Train Loss: 0.0944 | Acc: 96.81%\n",
      "Test Loss: 0.1445 | Acc: 94.05%\n",
      "Current LR: 1.00e-04\n"
     ]
    },
    {
     "name": "stderr",
     "output_type": "stream",
     "text": [
      "100%|██████████| 128/128 [00:06<00:00, 21.11it/s]\n",
      "100%|██████████| 128/128 [00:06<00:00, 21.29it/s]\n",
      "100%|██████████| 128/128 [00:05<00:00, 21.34it/s]\n",
      "100%|██████████| 128/128 [00:06<00:00, 21.26it/s]\n"
     ]
    },
    {
     "name": "stdout",
     "output_type": "stream",
     "text": [
      "[INFO] New best accuracy: 95.50%\n",
      "\n",
      "Epoch 10/50 [56.2s]\n",
      "Train Loss: 0.0754 | Acc: 97.51%\n",
      "Test Loss: 0.1273 | Acc: 95.50%\n",
      "Current LR: 1.00e-04\n"
     ]
    },
    {
     "name": "stderr",
     "output_type": "stream",
     "text": [
      "100%|██████████| 128/128 [00:06<00:00, 21.06it/s]\n",
      "100%|██████████| 128/128 [00:06<00:00, 21.30it/s]\n",
      "100%|██████████| 128/128 [00:06<00:00, 21.31it/s]\n",
      "100%|██████████| 128/128 [00:06<00:00, 21.28it/s]\n"
     ]
    },
    {
     "name": "stdout",
     "output_type": "stream",
     "text": [
      "[INFO] New best accuracy: 95.80%\n",
      "\n",
      "Epoch 11/50 [56.3s]\n",
      "Train Loss: 0.0678 | Acc: 97.83%\n",
      "Test Loss: 0.1124 | Acc: 95.80%\n",
      "Current LR: 1.00e-04\n"
     ]
    },
    {
     "name": "stderr",
     "output_type": "stream",
     "text": [
      "100%|██████████| 128/128 [00:06<00:00, 21.19it/s]\n",
      "100%|██████████| 128/128 [00:05<00:00, 21.41it/s]\n",
      "100%|██████████| 128/128 [00:05<00:00, 21.45it/s]\n",
      "100%|██████████| 128/128 [00:05<00:00, 21.39it/s]\n"
     ]
    },
    {
     "name": "stdout",
     "output_type": "stream",
     "text": [
      "[INFO] New best accuracy: 96.03%\n",
      "\n",
      "Epoch 12/50 [56.1s]\n",
      "Train Loss: 0.0630 | Acc: 98.07%\n",
      "Test Loss: 0.1079 | Acc: 96.03%\n",
      "Current LR: 1.00e-04\n"
     ]
    },
    {
     "name": "stderr",
     "output_type": "stream",
     "text": [
      "100%|██████████| 128/128 [00:06<00:00, 21.13it/s]\n",
      "100%|██████████| 128/128 [00:06<00:00, 21.31it/s]\n",
      "100%|██████████| 128/128 [00:06<00:00, 21.31it/s]\n",
      "100%|██████████| 128/128 [00:06<00:00, 21.31it/s]\n"
     ]
    },
    {
     "name": "stdout",
     "output_type": "stream",
     "text": [
      "[INFO] New best accuracy: 96.34%\n",
      "\n",
      "Epoch 13/50 [56.2s]\n",
      "Train Loss: 0.0579 | Acc: 98.13%\n",
      "Test Loss: 0.1069 | Acc: 96.34%\n",
      "Current LR: 1.00e-04\n"
     ]
    },
    {
     "name": "stderr",
     "output_type": "stream",
     "text": [
      "100%|██████████| 128/128 [00:06<00:00, 21.24it/s]\n",
      "100%|██████████| 128/128 [00:05<00:00, 21.43it/s]\n",
      "100%|██████████| 128/128 [00:05<00:00, 21.44it/s]\n",
      "100%|██████████| 128/128 [00:05<00:00, 21.39it/s]\n"
     ]
    },
    {
     "name": "stdout",
     "output_type": "stream",
     "text": [
      "[INFO] New best accuracy: 96.80%\n",
      "\n",
      "Epoch 14/50 [54.3s]\n",
      "Train Loss: 0.0438 | Acc: 98.55%\n",
      "Test Loss: 0.1003 | Acc: 96.80%\n",
      "Current LR: 1.00e-04\n"
     ]
    },
    {
     "name": "stderr",
     "output_type": "stream",
     "text": [
      "100%|██████████| 128/128 [00:05<00:00, 22.10it/s]\n",
      "100%|██████████| 128/128 [00:05<00:00, 22.27it/s]\n",
      "100%|██████████| 128/128 [00:05<00:00, 22.36it/s]\n",
      "100%|██████████| 128/128 [00:05<00:00, 22.28it/s]\n"
     ]
    },
    {
     "name": "stdout",
     "output_type": "stream",
     "text": [
      "[INFO] New best accuracy: 97.18%\n",
      "\n",
      "Epoch 15/50 [56.7s]\n",
      "Train Loss: 0.0452 | Acc: 98.60%\n",
      "Test Loss: 0.0894 | Acc: 97.18%\n",
      "Current LR: 1.00e-04\n"
     ]
    },
    {
     "name": "stderr",
     "output_type": "stream",
     "text": [
      "100%|██████████| 128/128 [00:06<00:00, 21.20it/s]\n",
      "100%|██████████| 128/128 [00:05<00:00, 21.37it/s]\n",
      "100%|██████████| 128/128 [00:05<00:00, 21.40it/s]\n",
      "100%|██████████| 128/128 [00:05<00:00, 21.39it/s]\n"
     ]
    },
    {
     "name": "stdout",
     "output_type": "stream",
     "text": [
      "\n",
      "Epoch 16/50 [56.1s]\n",
      "Train Loss: 0.0414 | Acc: 98.77%\n",
      "Test Loss: 0.0770 | Acc: 96.72%\n",
      "Current LR: 1.00e-04\n"
     ]
    },
    {
     "name": "stderr",
     "output_type": "stream",
     "text": [
      "100%|██████████| 128/128 [00:05<00:00, 21.43it/s]\n",
      "100%|██████████| 128/128 [00:05<00:00, 21.37it/s]\n",
      "100%|██████████| 128/128 [00:05<00:00, 21.38it/s]\n",
      "100%|██████████| 128/128 [00:05<00:00, 21.36it/s]\n"
     ]
    },
    {
     "name": "stdout",
     "output_type": "stream",
     "text": [
      "\n",
      "Epoch 17/50 [55.9s]\n",
      "Train Loss: 0.0350 | Acc: 98.95%\n",
      "Test Loss: 0.0944 | Acc: 96.57%\n",
      "Current LR: 1.00e-04\n"
     ]
    },
    {
     "name": "stderr",
     "output_type": "stream",
     "text": [
      "100%|██████████| 128/128 [00:06<00:00, 21.29it/s]\n",
      "100%|██████████| 128/128 [00:06<00:00, 21.25it/s]\n",
      "100%|██████████| 128/128 [00:06<00:00, 21.28it/s]\n",
      "100%|██████████| 128/128 [00:06<00:00, 21.26it/s]\n"
     ]
    },
    {
     "name": "stdout",
     "output_type": "stream",
     "text": [
      "[INFO] New best accuracy: 97.33%\n",
      "\n",
      "Epoch 18/50 [56.4s]\n",
      "Train Loss: 0.0379 | Acc: 98.79%\n",
      "Test Loss: 0.0793 | Acc: 97.33%\n",
      "Current LR: 1.00e-04\n"
     ]
    },
    {
     "name": "stderr",
     "output_type": "stream",
     "text": [
      "100%|██████████| 128/128 [00:06<00:00, 21.16it/s]\n",
      "100%|██████████| 128/128 [00:06<00:00, 21.25it/s]\n",
      "100%|██████████| 128/128 [00:06<00:00, 21.33it/s]\n",
      "100%|██████████| 128/128 [00:06<00:00, 21.33it/s]\n"
     ]
    },
    {
     "name": "stdout",
     "output_type": "stream",
     "text": [
      "\n",
      "Epoch 19/50 [56.0s]\n",
      "Train Loss: 0.0268 | Acc: 99.30%\n",
      "Test Loss: 0.1040 | Acc: 96.87%\n",
      "Current LR: 1.00e-04\n"
     ]
    },
    {
     "name": "stderr",
     "output_type": "stream",
     "text": [
      "100%|██████████| 128/128 [00:05<00:00, 21.39it/s]\n",
      "100%|██████████| 128/128 [00:05<00:00, 21.38it/s]\n",
      "100%|██████████| 128/128 [00:05<00:00, 21.38it/s]\n",
      "100%|██████████| 128/128 [00:06<00:00, 21.31it/s]\n"
     ]
    },
    {
     "name": "stdout",
     "output_type": "stream",
     "text": [
      "\n",
      "Epoch 20/50 [55.9s]\n",
      "Train Loss: 0.0343 | Acc: 98.95%\n",
      "Test Loss: 0.0827 | Acc: 97.03%\n",
      "Current LR: 1.00e-04\n"
     ]
    },
    {
     "name": "stderr",
     "output_type": "stream",
     "text": [
      "100%|██████████| 128/128 [00:06<00:00, 21.32it/s]\n",
      "100%|██████████| 128/128 [00:06<00:00, 21.32it/s]\n",
      "100%|██████████| 128/128 [00:05<00:00, 21.34it/s]\n",
      "100%|██████████| 128/128 [00:06<00:00, 21.30it/s]\n"
     ]
    },
    {
     "name": "stdout",
     "output_type": "stream",
     "text": [
      "[INFO] New best accuracy: 97.64%\n",
      "\n",
      "Epoch 21/50 [56.2s]\n",
      "Train Loss: 0.0244 | Acc: 99.25%\n",
      "Test Loss: 0.0777 | Acc: 97.64%\n",
      "Current LR: 1.00e-04\n"
     ]
    },
    {
     "name": "stderr",
     "output_type": "stream",
     "text": [
      "100%|██████████| 128/128 [00:06<00:00, 21.17it/s]\n",
      "100%|██████████| 128/128 [00:05<00:00, 21.37it/s]\n",
      "100%|██████████| 128/128 [00:05<00:00, 21.41it/s]\n",
      "100%|██████████| 128/128 [00:06<00:00, 21.33it/s]\n"
     ]
    },
    {
     "name": "stdout",
     "output_type": "stream",
     "text": [
      "\n",
      "Epoch 22/50 [55.7s]\n",
      "Train Loss: 0.0280 | Acc: 99.16%\n",
      "Test Loss: 0.1001 | Acc: 97.10%\n",
      "Current LR: 1.00e-04\n"
     ]
    },
    {
     "name": "stderr",
     "output_type": "stream",
     "text": [
      "100%|██████████| 128/128 [00:06<00:00, 21.31it/s]\n",
      "100%|██████████| 128/128 [00:06<00:00, 21.31it/s]\n",
      "100%|██████████| 128/128 [00:06<00:00, 21.30it/s]\n",
      "100%|██████████| 128/128 [00:06<00:00, 21.25it/s]\n"
     ]
    },
    {
     "name": "stdout",
     "output_type": "stream",
     "text": [
      "[INFO] New best accuracy: 97.94%\n",
      "\n",
      "Epoch 23/50 [56.4s]\n",
      "Train Loss: 0.0230 | Acc: 99.28%\n",
      "Test Loss: 0.0642 | Acc: 97.94%\n",
      "Current LR: 1.00e-04\n"
     ]
    },
    {
     "name": "stderr",
     "output_type": "stream",
     "text": [
      "100%|██████████| 128/128 [00:06<00:00, 21.20it/s]\n",
      "100%|██████████| 128/128 [00:05<00:00, 21.41it/s]\n",
      "100%|██████████| 128/128 [00:05<00:00, 21.40it/s]\n",
      "100%|██████████| 128/128 [00:05<00:00, 21.37it/s]\n"
     ]
    },
    {
     "name": "stdout",
     "output_type": "stream",
     "text": [
      "[INFO] New best accuracy: 98.17%\n",
      "\n",
      "Epoch 24/50 [56.1s]\n",
      "Train Loss: 0.0206 | Acc: 99.42%\n",
      "Test Loss: 0.0518 | Acc: 98.17%\n",
      "Current LR: 1.00e-04\n"
     ]
    },
    {
     "name": "stderr",
     "output_type": "stream",
     "text": [
      "100%|██████████| 128/128 [00:06<00:00, 21.09it/s]\n",
      "100%|██████████| 128/128 [00:05<00:00, 21.57it/s]\n",
      "100%|██████████| 128/128 [00:05<00:00, 22.20it/s]\n",
      "100%|██████████| 128/128 [00:05<00:00, 22.26it/s]\n"
     ]
    },
    {
     "name": "stdout",
     "output_type": "stream",
     "text": [
      "[INFO] New best accuracy: 98.25%\n",
      "\n",
      "Epoch 25/50 [56.3s]\n",
      "Train Loss: 0.0200 | Acc: 99.39%\n",
      "Test Loss: 0.0575 | Acc: 98.25%\n",
      "Current LR: 1.00e-04\n"
     ]
    },
    {
     "name": "stderr",
     "output_type": "stream",
     "text": [
      "100%|██████████| 128/128 [00:06<00:00, 21.18it/s]\n",
      "100%|██████████| 128/128 [00:05<00:00, 21.40it/s]\n",
      "100%|██████████| 128/128 [00:05<00:00, 21.42it/s]\n",
      "100%|██████████| 128/128 [00:05<00:00, 21.36it/s]\n"
     ]
    },
    {
     "name": "stdout",
     "output_type": "stream",
     "text": [
      "\n",
      "Epoch 26/50 [55.7s]\n",
      "Train Loss: 0.0170 | Acc: 99.49%\n",
      "Test Loss: 0.0722 | Acc: 97.94%\n",
      "Current LR: 1.00e-04\n"
     ]
    },
    {
     "name": "stderr",
     "output_type": "stream",
     "text": [
      "100%|██████████| 128/128 [00:06<00:00, 21.32it/s]\n",
      "100%|██████████| 128/128 [00:06<00:00, 21.27it/s]\n",
      "100%|██████████| 128/128 [00:05<00:00, 21.37it/s]\n",
      "100%|██████████| 128/128 [00:06<00:00, 21.27it/s]\n"
     ]
    },
    {
     "name": "stdout",
     "output_type": "stream",
     "text": [
      "\n",
      "Epoch 27/50 [56.1s]\n",
      "Train Loss: 0.0182 | Acc: 99.46%\n",
      "Test Loss: 0.0714 | Acc: 97.56%\n",
      "Current LR: 1.00e-04\n"
     ]
    },
    {
     "name": "stderr",
     "output_type": "stream",
     "text": [
      "100%|██████████| 128/128 [00:06<00:00, 21.29it/s]\n",
      "100%|██████████| 128/128 [00:06<00:00, 21.28it/s]\n",
      "100%|██████████| 128/128 [00:06<00:00, 21.31it/s]\n",
      "100%|██████████| 128/128 [00:06<00:00, 21.27it/s]\n"
     ]
    },
    {
     "name": "stdout",
     "output_type": "stream",
     "text": [
      "\n",
      "Epoch 28/50 [56.1s]\n",
      "Train Loss: 0.0144 | Acc: 99.49%\n",
      "Test Loss: 0.0728 | Acc: 98.09%\n",
      "Current LR: 1.00e-04\n"
     ]
    },
    {
     "name": "stderr",
     "output_type": "stream",
     "text": [
      "100%|██████████| 128/128 [00:06<00:00, 21.27it/s]\n",
      "100%|██████████| 128/128 [00:06<00:00, 21.32it/s]\n",
      "100%|██████████| 128/128 [00:06<00:00, 21.32it/s]\n",
      "100%|██████████| 128/128 [00:06<00:00, 21.27it/s]\n"
     ]
    },
    {
     "name": "stdout",
     "output_type": "stream",
     "text": [
      "\n",
      "Epoch 29/50 [55.8s]\n",
      "Train Loss: 0.0170 | Acc: 99.53%\n",
      "Test Loss: 0.0801 | Acc: 97.64%\n",
      "Current LR: 1.00e-04\n"
     ]
    },
    {
     "name": "stderr",
     "output_type": "stream",
     "text": [
      "100%|██████████| 128/128 [00:06<00:00, 21.26it/s]\n",
      "100%|██████████| 128/128 [00:06<00:00, 21.26it/s]\n",
      "100%|██████████| 128/128 [00:06<00:00, 21.30it/s]\n",
      "100%|██████████| 128/128 [00:06<00:00, 21.25it/s]\n"
     ]
    },
    {
     "name": "stdout",
     "output_type": "stream",
     "text": [
      "\n",
      "Epoch 30/50 [56.1s]\n",
      "Train Loss: 0.0159 | Acc: 99.44%\n",
      "Test Loss: 0.0610 | Acc: 98.17%\n",
      "Current LR: 1.00e-04\n"
     ]
    },
    {
     "name": "stderr",
     "output_type": "stream",
     "text": [
      "100%|██████████| 128/128 [00:05<00:00, 21.35it/s]\n",
      "100%|██████████| 128/128 [00:06<00:00, 21.31it/s]\n",
      "100%|██████████| 128/128 [00:05<00:00, 21.40it/s]\n",
      "100%|██████████| 128/128 [00:05<00:00, 21.34it/s]\n"
     ]
    },
    {
     "name": "stdout",
     "output_type": "stream",
     "text": [
      "\n",
      "Epoch 31/50 [55.9s]\n",
      "Train Loss: 0.0136 | Acc: 99.56%\n",
      "Test Loss: 0.0663 | Acc: 98.17%\n",
      "Current LR: 1.00e-04\n"
     ]
    },
    {
     "name": "stderr",
     "output_type": "stream",
     "text": [
      "100%|██████████| 128/128 [00:05<00:00, 21.34it/s]\n",
      "100%|██████████| 128/128 [00:05<00:00, 21.35it/s]\n",
      "100%|██████████| 128/128 [00:05<00:00, 21.35it/s]\n",
      "100%|██████████| 128/128 [00:06<00:00, 21.32it/s]\n"
     ]
    },
    {
     "name": "stdout",
     "output_type": "stream",
     "text": [
      "\n",
      "Epoch 32/50 [55.9s]\n",
      "Train Loss: 0.0153 | Acc: 99.60%\n",
      "Test Loss: 0.0613 | Acc: 98.17%\n",
      "Current LR: 1.00e-04\n"
     ]
    },
    {
     "name": "stderr",
     "output_type": "stream",
     "text": [
      "100%|██████████| 128/128 [00:06<00:00, 21.29it/s]\n",
      "100%|██████████| 128/128 [00:06<00:00, 21.27it/s]\n",
      "100%|██████████| 128/128 [00:06<00:00, 21.27it/s]\n",
      "100%|██████████| 128/128 [00:06<00:00, 21.27it/s]\n"
     ]
    },
    {
     "name": "stdout",
     "output_type": "stream",
     "text": [
      "\n",
      "Epoch 33/50 [56.2s]\n",
      "Train Loss: 0.0117 | Acc: 99.63%\n",
      "Test Loss: 0.0625 | Acc: 98.17%\n",
      "Current LR: 1.00e-04\n"
     ]
    },
    {
     "name": "stderr",
     "output_type": "stream",
     "text": [
      "100%|██████████| 128/128 [00:06<00:00, 21.26it/s]\n",
      "100%|██████████| 128/128 [00:06<00:00, 21.25it/s]\n",
      "C:\\Users\\Krishna Madhav Jha\\AppData\\Roaming\\Python\\Python312\\site-packages\\pytorch_grad_cam\\utils\\image.py:50: RuntimeWarning: invalid value encountered in cast\n",
      "  heatmap = cv2.applyColorMap(np.uint8(255 * mask), colormap)\n",
      "100%|██████████| 128/128 [00:06<00:00, 21.28it/s]\n",
      "100%|██████████| 128/128 [00:06<00:00, 21.25it/s]\n"
     ]
    },
    {
     "name": "stdout",
     "output_type": "stream",
     "text": [
      "\n",
      "Epoch 34/50 [56.2s]\n",
      "Train Loss: 0.0115 | Acc: 99.63%\n",
      "Test Loss: 0.0641 | Acc: 98.09%\n",
      "Current LR: 1.00e-04\n"
     ]
    },
    {
     "name": "stderr",
     "output_type": "stream",
     "text": [
      "100%|██████████| 128/128 [00:06<00:00, 21.30it/s]\n",
      "100%|██████████| 128/128 [00:06<00:00, 21.29it/s]\n",
      "100%|██████████| 128/128 [00:06<00:00, 21.28it/s]\n",
      "100%|██████████| 128/128 [00:06<00:00, 21.24it/s]\n"
     ]
    },
    {
     "name": "stdout",
     "output_type": "stream",
     "text": [
      "[INFO] New best accuracy: 98.40%\n",
      "\n",
      "Epoch 35/50 [56.3s]\n",
      "Train Loss: 0.0086 | Acc: 99.75%\n",
      "Test Loss: 0.0654 | Acc: 98.40%\n",
      "Current LR: 1.00e-04\n"
     ]
    },
    {
     "name": "stderr",
     "output_type": "stream",
     "text": [
      "100%|██████████| 128/128 [00:06<00:00, 21.09it/s]\n",
      "100%|██████████| 128/128 [00:06<00:00, 21.33it/s]\n",
      "100%|██████████| 128/128 [00:05<00:00, 21.34it/s]\n",
      "100%|██████████| 128/128 [00:06<00:00, 21.27it/s]\n"
     ]
    },
    {
     "name": "stdout",
     "output_type": "stream",
     "text": [
      "\n",
      "Epoch 36/50 [56.0s]\n",
      "Train Loss: 0.0093 | Acc: 99.67%\n",
      "Test Loss: 0.0545 | Acc: 98.40%\n",
      "Current LR: 1.00e-04\n"
     ]
    },
    {
     "name": "stderr",
     "output_type": "stream",
     "text": [
      "100%|██████████| 128/128 [00:06<00:00, 21.29it/s]\n",
      "100%|██████████| 128/128 [00:06<00:00, 21.28it/s]\n",
      "100%|██████████| 128/128 [00:06<00:00, 21.30it/s]\n",
      "100%|██████████| 128/128 [00:06<00:00, 21.21it/s]\n"
     ]
    },
    {
     "name": "stdout",
     "output_type": "stream",
     "text": [
      "\n",
      "Epoch 37/50 [56.1s]\n",
      "Train Loss: 0.0109 | Acc: 99.67%\n",
      "Test Loss: 0.0626 | Acc: 98.17%\n",
      "Current LR: 1.00e-04\n"
     ]
    },
    {
     "name": "stderr",
     "output_type": "stream",
     "text": [
      "100%|██████████| 128/128 [00:06<00:00, 21.23it/s]\n",
      "100%|██████████| 128/128 [00:05<00:00, 21.40it/s]\n",
      "100%|██████████| 128/128 [00:05<00:00, 21.42it/s]\n",
      "100%|██████████| 128/128 [00:05<00:00, 21.36it/s]\n"
     ]
    },
    {
     "name": "stdout",
     "output_type": "stream",
     "text": [
      "[INFO] New best accuracy: 98.86%\n",
      "\n",
      "Epoch 38/50 [56.1s]\n",
      "Train Loss: 0.0076 | Acc: 99.81%\n",
      "Test Loss: 0.0462 | Acc: 98.86%\n",
      "Current LR: 1.00e-04\n"
     ]
    },
    {
     "name": "stderr",
     "output_type": "stream",
     "text": [
      "100%|██████████| 128/128 [00:06<00:00, 21.09it/s]\n",
      "100%|██████████| 128/128 [00:06<00:00, 21.25it/s]\n",
      "100%|██████████| 128/128 [00:06<00:00, 21.26it/s]\n",
      "100%|██████████| 128/128 [00:06<00:00, 21.23it/s]\n"
     ]
    },
    {
     "name": "stdout",
     "output_type": "stream",
     "text": [
      "\n",
      "Epoch 39/50 [56.3s]\n",
      "Train Loss: 0.0087 | Acc: 99.75%\n",
      "Test Loss: 0.0472 | Acc: 98.63%\n",
      "Current LR: 1.00e-04\n"
     ]
    },
    {
     "name": "stderr",
     "output_type": "stream",
     "text": [
      "100%|██████████| 128/128 [00:06<00:00, 21.29it/s]\n",
      "100%|██████████| 128/128 [00:06<00:00, 21.23it/s]\n",
      "100%|██████████| 128/128 [00:06<00:00, 21.29it/s]\n",
      "100%|██████████| 128/128 [00:06<00:00, 21.27it/s]\n"
     ]
    },
    {
     "name": "stdout",
     "output_type": "stream",
     "text": [
      "\n",
      "Epoch 40/50 [56.1s]\n",
      "Train Loss: 0.0069 | Acc: 99.75%\n",
      "Test Loss: 0.0375 | Acc: 98.78%\n",
      "Current LR: 1.00e-04\n"
     ]
    },
    {
     "name": "stderr",
     "output_type": "stream",
     "text": [
      "100%|██████████| 128/128 [00:06<00:00, 21.31it/s]\n",
      "100%|██████████| 128/128 [00:05<00:00, 21.40it/s]\n",
      "100%|██████████| 128/128 [00:05<00:00, 21.37it/s]\n",
      "100%|██████████| 128/128 [00:05<00:00, 21.36it/s]\n"
     ]
    },
    {
     "name": "stdout",
     "output_type": "stream",
     "text": [
      "\n",
      "Epoch 41/50 [55.9s]\n",
      "Train Loss: 0.0086 | Acc: 99.74%\n",
      "Test Loss: 0.0751 | Acc: 97.86%\n",
      "Current LR: 1.00e-04\n"
     ]
    },
    {
     "name": "stderr",
     "output_type": "stream",
     "text": [
      "100%|██████████| 128/128 [00:05<00:00, 21.34it/s]\n",
      "100%|██████████| 128/128 [00:06<00:00, 21.31it/s]\n",
      "100%|██████████| 128/128 [00:05<00:00, 21.34it/s]\n",
      "100%|██████████| 128/128 [00:06<00:00, 21.25it/s]\n"
     ]
    },
    {
     "name": "stdout",
     "output_type": "stream",
     "text": [
      "\n",
      "Epoch 42/50 [56.0s]\n",
      "Train Loss: 0.0080 | Acc: 99.79%\n",
      "Test Loss: 0.0640 | Acc: 98.09%\n",
      "Current LR: 1.00e-04\n"
     ]
    },
    {
     "name": "stderr",
     "output_type": "stream",
     "text": [
      "100%|██████████| 128/128 [00:05<00:00, 21.34it/s]\n",
      "100%|██████████| 128/128 [00:06<00:00, 21.31it/s]\n",
      "100%|██████████| 128/128 [00:06<00:00, 21.32it/s]\n",
      "100%|██████████| 128/128 [00:06<00:00, 21.26it/s]\n"
     ]
    },
    {
     "name": "stdout",
     "output_type": "stream",
     "text": [
      "\n",
      "Epoch 43/50 [55.9s]\n",
      "Train Loss: 0.0074 | Acc: 99.79%\n",
      "Test Loss: 0.0464 | Acc: 98.78%\n",
      "Current LR: 1.00e-04\n"
     ]
    },
    {
     "name": "stderr",
     "output_type": "stream",
     "text": [
      "100%|██████████| 128/128 [00:06<00:00, 21.32it/s]\n",
      "100%|██████████| 128/128 [00:06<00:00, 21.31it/s]\n",
      "100%|██████████| 128/128 [00:05<00:00, 21.38it/s]\n",
      "100%|██████████| 128/128 [00:06<00:00, 21.31it/s]\n"
     ]
    },
    {
     "name": "stdout",
     "output_type": "stream",
     "text": [
      "\n",
      "Epoch 44/50 [56.0s]\n",
      "Train Loss: 0.0087 | Acc: 99.74%\n",
      "Test Loss: 0.0619 | Acc: 98.32%\n",
      "Current LR: 1.00e-04\n"
     ]
    },
    {
     "name": "stderr",
     "output_type": "stream",
     "text": [
      "100%|██████████| 128/128 [00:06<00:00, 21.11it/s]\n",
      "100%|██████████| 128/128 [00:06<00:00, 21.25it/s]\n",
      "100%|██████████| 128/128 [00:06<00:00, 21.31it/s]\n",
      "100%|██████████| 128/128 [00:06<00:00, 21.25it/s]\n"
     ]
    },
    {
     "name": "stdout",
     "output_type": "stream",
     "text": [
      "\n",
      "Epoch 45/50 [56.0s]\n",
      "Train Loss: 0.0085 | Acc: 99.68%\n",
      "Test Loss: 0.0490 | Acc: 98.47%\n",
      "Current LR: 1.00e-04\n"
     ]
    },
    {
     "name": "stderr",
     "output_type": "stream",
     "text": [
      "100%|██████████| 128/128 [00:06<00:00, 21.31it/s]\n",
      "100%|██████████| 128/128 [00:06<00:00, 21.27it/s]\n",
      "100%|██████████| 128/128 [00:06<00:00, 21.27it/s]\n",
      "100%|██████████| 128/128 [00:06<00:00, 21.23it/s]\n"
     ]
    },
    {
     "name": "stdout",
     "output_type": "stream",
     "text": [
      "[INFO] New best accuracy: 98.93%\n",
      "\n",
      "Epoch 46/50 [56.3s]\n",
      "Train Loss: 0.0074 | Acc: 99.72%\n",
      "Test Loss: 0.0426 | Acc: 98.93%\n",
      "Current LR: 1.00e-04\n"
     ]
    },
    {
     "name": "stderr",
     "output_type": "stream",
     "text": [
      "100%|██████████| 128/128 [00:06<00:00, 21.13it/s]\n",
      "100%|██████████| 128/128 [00:06<00:00, 20.91it/s]\n",
      "100%|██████████| 128/128 [00:06<00:00, 21.29it/s]\n",
      "100%|██████████| 128/128 [00:06<00:00, 21.28it/s]\n"
     ]
    },
    {
     "name": "stdout",
     "output_type": "stream",
     "text": [
      "\n",
      "Epoch 47/50 [56.8s]\n",
      "Train Loss: 0.0098 | Acc: 99.68%\n",
      "Test Loss: 0.0562 | Acc: 98.47%\n",
      "Current LR: 1.00e-04\n"
     ]
    },
    {
     "name": "stderr",
     "output_type": "stream",
     "text": [
      "100%|██████████| 128/128 [00:05<00:00, 21.39it/s]\n",
      "100%|██████████| 128/128 [00:05<00:00, 21.40it/s]\n",
      "100%|██████████| 128/128 [00:05<00:00, 21.39it/s]\n",
      "100%|██████████| 128/128 [00:05<00:00, 21.37it/s]\n"
     ]
    },
    {
     "name": "stdout",
     "output_type": "stream",
     "text": [
      "\n",
      "Epoch 48/50 [55.9s]\n",
      "Train Loss: 0.0072 | Acc: 99.72%\n",
      "Test Loss: 0.0427 | Acc: 98.78%\n",
      "Current LR: 1.00e-04\n"
     ]
    },
    {
     "name": "stderr",
     "output_type": "stream",
     "text": [
      "100%|██████████| 128/128 [00:06<00:00, 21.27it/s]\n",
      "100%|██████████| 128/128 [00:06<00:00, 21.26it/s]\n",
      "100%|██████████| 128/128 [00:06<00:00, 21.26it/s]\n",
      "100%|██████████| 128/128 [00:06<00:00, 21.22it/s]\n"
     ]
    },
    {
     "name": "stdout",
     "output_type": "stream",
     "text": [
      "\n",
      "Epoch 49/50 [56.1s]\n",
      "Train Loss: 0.0044 | Acc: 99.84%\n",
      "Test Loss: 0.0436 | Acc: 98.55%\n",
      "Current LR: 1.00e-04\n"
     ]
    },
    {
     "name": "stderr",
     "output_type": "stream",
     "text": [
      "100%|██████████| 128/128 [00:05<00:00, 21.34it/s]\n",
      "100%|██████████| 128/128 [00:05<00:00, 21.35it/s]\n",
      "100%|██████████| 128/128 [00:05<00:00, 21.34it/s]\n",
      "100%|██████████| 128/128 [00:06<00:00, 21.26it/s]\n"
     ]
    },
    {
     "name": "stdout",
     "output_type": "stream",
     "text": [
      "\n",
      "Epoch 50/50 [56.0s]\n",
      "Train Loss: 0.0038 | Acc: 99.88%\n",
      "Test Loss: 0.0455 | Acc: 98.86%\n",
      "Current LR: 1.00e-04\n"
     ]
    },
    {
     "name": "stderr",
     "output_type": "stream",
     "text": [
      "100%|██████████| 128/128 [00:06<00:00, 21.30it/s]\n",
      "100%|██████████| 128/128 [00:05<00:00, 21.36it/s]\n",
      "100%|██████████| 128/128 [00:06<00:00, 21.25it/s]\n",
      "100%|██████████| 128/128 [00:06<00:00, 21.29it/s]\n",
      "C:\\Users\\Krishna Madhav Jha\\AppData\\Local\\Temp\\ipykernel_4024\\4214833513.py:325: FutureWarning: You are using `torch.load` with `weights_only=False` (the current default value), which uses the default pickle module implicitly. It is possible to construct malicious pickle data which will execute arbitrary code during unpickling (See https://github.com/pytorch/pytorch/blob/main/SECURITY.md#untrusted-models for more details). In a future release, the default value for `weights_only` will be flipped to `True`. This limits the functions that could be executed during unpickling. Arbitrary objects will no longer be allowed to be loaded via this mode unless they are explicitly allowlisted by the user via `torch.serialization.add_safe_globals`. We recommend you start setting `weights_only=True` for any use case where you don't have full control of the loaded file. Please open an issue on GitHub for any issues related to this experimental feature.\n",
      "  model.load_state_dict(torch.load(Config.CHECKPOINT_PATH))\n"
     ]
    },
    {
     "name": "stdout",
     "output_type": "stream",
     "text": [
      "\n",
      "Classification Report:\n",
      "              precision    recall  f1-score   support\n",
      "\n",
      "      glioma       0.96      0.95      0.96     15000\n",
      "  meningioma       0.91      0.95      0.93     15300\n",
      "     notumor       0.98      0.99      0.98     20250\n",
      "   pituitary       0.99      0.94      0.97     15000\n",
      "\n",
      "    accuracy                           0.96     65550\n",
      "   macro avg       0.96      0.96      0.96     65550\n",
      "weighted avg       0.96      0.96      0.96     65550\n",
      "\n"
     ]
    },
    {
     "data": {
      "image/png": "[encoded data removed]",
      "text/plain": [
       "<Figure size 1000x800 with 2 Axes>"
      ]
     },
     "metadata": {},
     "output_type": "display_data"
    },
    {
     "data": {
      "image/png": "[encoded data removed]",
      "text/plain": [
       "<Figure size 1500x600 with 2 Axes>"
      ]
     },
     "metadata": {},
     "output_type": "display_data"
    },
    {
     "name": "stdout",
     "output_type": "stream",
     "text": [
      "\n",
      "[INFO] Training completed. Best accuracy: 98.93%\n"
     ]
    }
   ],
   "source": [
    "import os\n",
    "import time\n",
    "import random\n",
    "import numpy as np\n",
    "import matplotlib.pyplot as plt\n",
    "import torch\n",
    "import torch.nn as nn\n",
    "import torch.optim as optim\n",
    "import torchvision.transforms as transforms\n",
    "import torchvision.models as models\n",
    "import torchvision.datasets as datasets\n",
    "from torch.utils.data import DataLoader\n",
    "from pytorch_grad_cam import GradCAM, GradCAMPlusPlus, ScoreCAM\n",
    "from pytorch_grad_cam.utils.image import show_cam_on_image\n",
    "from torch.cuda.amp import GradScaler, autocast\n",
    "from sklearn.metrics import classification_report, confusion_matrix\n",
    "import seaborn as sns\n",
    "\n",
    "# ----------------------------\n",
    "# 1. ENHANCED CONFIGURATION\n",
    "# ----------------------------\n",
    "class Config:\n",
    "    DEVICE = torch.device(\"cuda\" if torch.cuda.is_available() else \"cpu\")\n",
    "    TRAIN_PATH = \"./archive/Training\"\n",
    "    TEST_PATH = \"./archive/Testing\"\n",
    "    NUM_EPOCHS = 50\n",
    "    BATCH_SIZE = 32\n",
    "    LEARNING_RATE = 1e-4\n",
    "    EARLY_STOP_PATIENCE = 10\n",
    "    CHECKPOINT_PATH = \"best_model.pth\"\n",
    "    GRADCAM_DIR = \"gradcam_results\"\n",
    "    SEED = 42\n",
    "    NUM_WORKERS = 4\n",
    "    MIXED_PRECISION = True\n",
    "    CLASS_WEIGHTS = None  # Will be calculated automatically\n",
    "\n",
    "# Set seeds for reproducibility\n",
    "random.seed(Config.SEED)\n",
    "np.random.seed(Config.SEED)\n",
    "torch.manual_seed(Config.SEED)\n",
    "torch.cuda.manual_seed_all(Config.SEED)\n",
    "torch.backends.cudnn.deterministic = True\n",
    "torch.backends.cudnn.benchmark = False\n",
    "\n",
    "print(f\"[INFO] Using device: {Config.DEVICE}\")\n",
    "\n",
    "# ----------------------------\n",
    "# 2. IMPROVED DATA PIPELINE\n",
    "# ----------------------------\n",
    "def prepare_datasets():\n",
    "    \"\"\"Prepare datasets with proper train/test split and augmentation.\n",
    "       Also calculates class weights based on the training data distribution.\n",
    "    \"\"\"\n",
    "    # First, load dataset without transforms to calculate class counts\n",
    "    temp_dataset = datasets.ImageFolder(root=Config.TRAIN_PATH)\n",
    "    class_counts = np.bincount([label for _, label in temp_dataset])\n",
    "    Config.CLASS_WEIGHTS = torch.tensor(\n",
    "        (1.0 / class_counts) * (len(temp_dataset) / len(class_counts)), \n",
    "        device=Config.DEVICE,\n",
    "        dtype=torch.float32\n",
    "    )\n",
    "    \n",
    "    # Define transforms with augmentation for training\n",
    "    train_transform = transforms.Compose([\n",
    "        transforms.Resize((256, 256)),\n",
    "        transforms.RandomRotation(15),\n",
    "        transforms.RandomHorizontalFlip(),\n",
    "        transforms.RandomAffine(0, shear=10),\n",
    "        transforms.ColorJitter(brightness=0.2, contrast=0.2, saturation=0.2),\n",
    "        transforms.CenterCrop(224),\n",
    "        transforms.ToTensor(),\n",
    "        transforms.Normalize([0.485, 0.456, 0.406], [0.229, 0.224, 0.225])\n",
    "    ])\n",
    "\n",
    "    test_transform = transforms.Compose([\n",
    "        transforms.Resize((224, 224)),\n",
    "        transforms.ToTensor(),\n",
    "        transforms.Normalize([0.485, 0.456, 0.406], [0.229, 0.224, 0.225])\n",
    "    ])\n",
    "\n",
    "    # Load datasets with transforms\n",
    "    train_dataset = datasets.ImageFolder(\n",
    "        root=Config.TRAIN_PATH,\n",
    "        transform=train_transform\n",
    "    )\n",
    "    test_dataset = datasets.ImageFolder(\n",
    "        root=Config.TEST_PATH,\n",
    "        transform=test_transform\n",
    "    )\n",
    "    \n",
    "    return train_dataset, test_dataset, train_dataset.classes\n",
    "\n",
    "train_dataset, test_dataset, class_names = prepare_datasets()\n",
    "num_classes = len(class_names)\n",
    "\n",
    "# Create data loaders\n",
    "train_loader = DataLoader(\n",
    "    train_dataset,\n",
    "    batch_size=Config.BATCH_SIZE,\n",
    "    shuffle=True,\n",
    "    num_workers=Config.NUM_WORKERS,\n",
    "    pin_memory=True\n",
    ")\n",
    "test_loader = DataLoader(\n",
    "    test_dataset,\n",
    "    batch_size=Config.BATCH_SIZE,\n",
    "    shuffle=False,\n",
    "    num_workers=Config.NUM_WORKERS,\n",
    "    pin_memory=True\n",
    ")\n",
    "\n",
    "# ----------------------------\n",
    "# 3. ENHANCED MODEL ARCHITECTURE\n",
    "# ----------------------------\n",
    "class CustomResNet(nn.Module):\n",
    "    def __init__(self, num_classes):\n",
    "        super().__init__()\n",
    "        # Use pretrained weights\n",
    "        self.base_model = models.resnet50(weights=models.ResNet50_Weights.IMAGENET1K_V2)\n",
    "        \n",
    "        # Freeze all parameters first\n",
    "        for param in self.base_model.parameters():\n",
    "            param.requires_grad = False\n",
    "            \n",
    "        # Unfreeze last two blocks\n",
    "        for param in self.base_model.layer3.parameters():\n",
    "            param.requires_grad = True\n",
    "        for param in self.base_model.layer4.parameters():\n",
    "            param.requires_grad = True\n",
    "            \n",
    "        # Replace final fully connected layer\n",
    "        in_features = self.base_model.fc.in_features\n",
    "        self.base_model.fc = nn.Sequential(\n",
    "            nn.Dropout(0.5),\n",
    "            nn.Linear(in_features, num_classes)\n",
    "        )\n",
    "        \n",
    "    def forward(self, x):\n",
    "        return self.base_model(x)\n",
    "    \n",
    "    def get_target_layer(self):\n",
    "        # Return the last convolutional layer for CAM methods\n",
    "        return self.base_model.layer4[-1].conv3\n",
    "\n",
    "model = CustomResNet(num_classes).to(Config.DEVICE)\n",
    "\n",
    "# ----------------------------\n",
    "# 4. OPTIMIZED TRAINING SETUP\n",
    "# ----------------------------\n",
    "criterion = nn.CrossEntropyLoss(weight=Config.CLASS_WEIGHTS)\n",
    "optimizer = optim.AdamW([\n",
    "    {'params': model.base_model.layer3.parameters(), 'lr': Config.LEARNING_RATE/10},\n",
    "    {'params': model.base_model.layer4.parameters(), 'lr': Config.LEARNING_RATE/10},\n",
    "    {'params': model.base_model.fc.parameters(), 'lr': Config.LEARNING_RATE}\n",
    "], weight_decay=1e-4)\n",
    "\n",
    "scheduler = optim.lr_scheduler.ReduceLROnPlateau(\n",
    "    optimizer, \n",
    "    mode='max', \n",
    "    factor=0.5, \n",
    "    patience=30, \n",
    "    verbose=True\n",
    ")\n",
    "scaler = GradScaler(enabled=Config.MIXED_PRECISION)\n",
    "\n",
    "# ----------------------------\n",
    "# 5. ENHANCED VISUALIZATION FUNCTION\n",
    "# ----------------------------\n",
    "def save_all_cam_visualizations(model, dataset, class_names, epoch):\n",
    "    \"\"\"\n",
    "    Generate side-by-side visualizations for each class sample using:\n",
    "    Original image, Grad-CAM, Grad-CAM++, and ScoreCAM.\n",
    "    \"\"\"\n",
    "    model.eval()\n",
    "    os.makedirs(Config.GRADCAM_DIR, exist_ok=True)\n",
    "    \n",
    "    # Select one sample per class\n",
    "    samples = [random.choice([i for i, (_, lbl) in enumerate(dataset) if lbl == c]) \n",
    "               for c in range(num_classes)]\n",
    "    \n",
    "    # Retrieve target layer from model\n",
    "    target_layer = model.get_target_layer()\n",
    "    \n",
    "    # Initialize CAM methods\n",
    "    cam_methods = {\n",
    "        \"GradCAM\": GradCAM(model=model, target_layers=[target_layer]),\n",
    "        \"GradCAM++\": GradCAMPlusPlus(model=model, target_layers=[target_layer]),\n",
    "        \"ScoreCAM\": ScoreCAM(model=model, target_layers=[target_layer])\n",
    "    }\n",
    "    \n",
    "    try:\n",
    "        # Create a subplot with 4 columns: Original, GradCAM, GradCAM++, ScoreCAM\n",
    "        fig, axs = plt.subplots(num_classes, 4, figsize=(20, 5*num_classes))\n",
    "        \n",
    "        for idx, sample_idx in enumerate(samples):\n",
    "            img_tensor, label = dataset[sample_idx]\n",
    "            input_tensor = img_tensor.unsqueeze(0).to(Config.DEVICE)\n",
    "            \n",
    "            # Process original image for visualization\n",
    "            img = img_tensor.numpy().transpose(1, 2, 0)\n",
    "            img = (img - img.min()) / (img.max() - img.min())\n",
    "            \n",
    "            # Display original image\n",
    "            axs[idx, 0].imshow(img)\n",
    "            axs[idx, 0].set_title(f\"Original\\nTrue: {class_names[label]}\")\n",
    "            axs[idx, 0].axis('off')\n",
    "            \n",
    "            # Loop through each CAM method\n",
    "            for j, (method_name, cam) in enumerate(cam_methods.items(), start=1):\n",
    "                # Enable gradients for CAM computation\n",
    "                with torch.enable_grad(), autocast(enabled=Config.MIXED_PRECISION):\n",
    "                    input_tensor.requires_grad_(True)\n",
    "                    output = model(input_tensor)\n",
    "                    pred = output.argmax(dim=1).item()\n",
    "                    \n",
    "                    # Compute CAM\n",
    "                    grayscale_cam = cam(input_tensor=input_tensor)[0]\n",
    "                    \n",
    "                    # Create visualization overlay\n",
    "                    visualization = show_cam_on_image(img, grayscale_cam, use_rgb=True)\n",
    "                    \n",
    "                    axs[idx, j].imshow(visualization)\n",
    "                    axs[idx, j].set_title(f\"{method_name}\\nPred: {class_names[pred]}\")\n",
    "                    axs[idx, j].axis('off')\n",
    "        \n",
    "        plt.tight_layout()\n",
    "        plt.savefig(f\"{Config.GRADCAM_DIR}/all_cams_epoch_{epoch+1}.png\")\n",
    "        plt.close()\n",
    "    \n",
    "    finally:\n",
    "        # Release resources for each CAM method\n",
    "        for cam in cam_methods.values():\n",
    "            if hasattr(cam, 'activations_and_grads'):\n",
    "                cam.activations_and_grads.release()\n",
    "        del cam_methods\n",
    "\n",
    "# ----------------------------\n",
    "# 6. ENHANCED TRAINING LOOP\n",
    "# ----------------------------\n",
    "def train_model():\n",
    "    best_acc = 0.0\n",
    "    no_improve = 0\n",
    "    history = {'train_loss': [], 'train_acc': [], 'test_acc': [], 'test_loss': []}\n",
    "    \n",
    "    all_preds = []\n",
    "    all_labels = []\n",
    "\n",
    "    for epoch in range(Config.NUM_EPOCHS):\n",
    "        start_time = time.time()\n",
    "        train_loss = 0.0\n",
    "        train_correct = 0\n",
    "        \n",
    "        # Training phase\n",
    "        model.train()\n",
    "        for inputs, labels in train_loader:\n",
    "            inputs = inputs.to(Config.DEVICE, non_blocking=True)\n",
    "            labels = labels.to(Config.DEVICE, non_blocking=True)\n",
    "            \n",
    "            optimizer.zero_grad()\n",
    "            with autocast(enabled=Config.MIXED_PRECISION):\n",
    "                outputs = model(inputs)\n",
    "                loss = criterion(outputs, labels)\n",
    "            \n",
    "            scaler.scale(loss).backward()\n",
    "            scaler.step(optimizer)\n",
    "            scaler.update()\n",
    "            \n",
    "            train_loss += loss.item() * inputs.size(0)\n",
    "            train_correct += (outputs.argmax(1) == labels).sum().item()\n",
    "        \n",
    "        # Validation phase\n",
    "        test_loss = 0.0\n",
    "        test_correct = 0\n",
    "        \n",
    "        model.eval()\n",
    "        with torch.no_grad():\n",
    "            for inputs, labels in test_loader:\n",
    "                inputs = inputs.to(Config.DEVICE, non_blocking=True)\n",
    "                labels = labels.to(Config.DEVICE, non_blocking=True)\n",
    "                \n",
    "                outputs = model(inputs)\n",
    "                loss = criterion(outputs, labels)\n",
    "                \n",
    "                test_loss += loss.item() * inputs.size(0)\n",
    "                preds = outputs.argmax(1)\n",
    "                test_correct += (preds == labels).sum().item()\n",
    "                \n",
    "                all_preds.extend(preds.cpu().numpy())\n",
    "                all_labels.extend(labels.cpu().numpy())\n",
    "        \n",
    "        train_loss = train_loss / len(train_dataset)\n",
    "        train_acc = 100 * train_correct / len(train_dataset)\n",
    "        test_loss = test_loss / len(test_dataset)\n",
    "        test_acc = 100 * test_correct / len(test_dataset)\n",
    "        \n",
    "        history['train_loss'].append(train_loss)\n",
    "        history['train_acc'].append(train_acc)\n",
    "        history['test_loss'].append(test_loss)\n",
    "        history['test_acc'].append(test_acc)\n",
    "        \n",
    "        scheduler.step(test_acc)\n",
    "        \n",
    "        if test_acc > best_acc:\n",
    "            best_acc = test_acc\n",
    "            torch.save(model.state_dict(), Config.CHECKPOINT_PATH)\n",
    "            no_improve = 0\n",
    "            print(f\"[INFO] New best accuracy: {best_acc:.2f}%\")\n",
    "        else:\n",
    "            no_improve += 1\n",
    "        \n",
    "        epoch_time = time.time() - start_time\n",
    "        print(f\"\\nEpoch {epoch+1}/{Config.NUM_EPOCHS} [{epoch_time:.1f}s]\")\n",
    "        print(f\"Train Loss: {train_loss:.4f} | Acc: {train_acc:.2f}%\")\n",
    "        print(f\"Test Loss: {test_loss:.4f} | Acc: {test_acc:.2f}%\")\n",
    "        print(f\"Current LR: {optimizer.param_groups[-1]['lr']:.2e}\")\n",
    "        \n",
    "        # Save side-by-side CAM visualizations at every epoch (or adjust frequency)\n",
    "        save_all_cam_visualizations(model, test_dataset, class_names, epoch)\n",
    "        \n",
    "        if no_improve >= Config.EARLY_STOP_PATIENCE:\n",
    "            print(f\"\\n[INFO] Early stopping at epoch {epoch+1}\")\n",
    "            break\n",
    "    \n",
    "    # Load best model and print classification report\n",
    "    model.load_state_dict(torch.load(Config.CHECKPOINT_PATH))\n",
    "    print(\"\\nClassification Report:\")\n",
    "    print(classification_report(all_labels, all_preds, target_names=class_names))\n",
    "    \n",
    "    return history, best_acc, all_labels, all_preds\n",
    "\n",
    "# ----------------------------\n",
    "# 7. CONFUSION MATRIX & TRAINING HISTORY PLOTTING\n",
    "# ----------------------------\n",
    "def plot_confusion_matrix(all_labels, all_preds, class_names):\n",
    "    cm = confusion_matrix(all_labels, all_preds)\n",
    "    plt.figure(figsize=(10, 8))\n",
    "    sns.heatmap(cm, annot=True, fmt=\"d\", cmap=\"Blues\",\n",
    "                xticklabels=class_names, yticklabels=class_names)\n",
    "    plt.xlabel(\"Predicted Label\")\n",
    "    plt.ylabel(\"True Label\")\n",
    "    plt.title(\"Confusion Matrix\")\n",
    "    plt.savefig(\"confusion_matrix.png\", dpi=300)\n",
    "    plt.show()\n",
    "\n",
    "def plot_training_history(history):\n",
    "    plt.figure(figsize=(15, 6))\n",
    "    \n",
    "    plt.subplot(1, 2, 1)\n",
    "    plt.plot(history['train_loss'], label='Train Loss')\n",
    "    plt.plot(history['test_loss'], label='Test Loss')\n",
    "    plt.title('Loss Curve')\n",
    "    plt.xlabel('Epoch')\n",
    "    plt.ylabel('Loss')\n",
    "    plt.legend()\n",
    "    \n",
    "    plt.subplot(1, 2, 2)\n",
    "    plt.plot(history['train_acc'], label='Train Acc')\n",
    "    plt.plot(history['test_acc'], label='Test Acc')\n",
    "    plt.title('Accuracy Curve')\n",
    "    plt.xlabel('Epoch')\n",
    "    plt.ylabel('Accuracy (%)')\n",
    "    plt.legend()\n",
    "    \n",
    "    plt.tight_layout()\n",
    "    plt.savefig('training_history.png', dpi=300)\n",
    "    plt.show()\n",
    "\n",
    "# ----------------------------\n",
    "# 8. MAIN EXECUTION\n",
    "# ----------------------------\n",
    "if __name__ == \"__main__\":\n",
    "    history, best_acc, all_labels, all_preds = train_model()\n",
    "    plot_confusion_matrix(all_labels, all_preds, class_names)\n",
    "    plot_training_history(history)\n",
    "    print(f\"\\n[INFO] Training completed. Best accuracy: {best_acc:.2f}%\")\n"
   ]
  }
 ],
 "metadata": {
  "kernelspec": {
   "display_name": "Python 3",
   "language": "python",
   "name": "python3"
  },
  "language_info": {
   "codemirror_mode": {
    "name": "ipython",
    "version": 3
   },
   "file_extension": ".py",
   "mimetype": "text/x-python",
   "name": "python",
   "nbconvert_exporter": "python",
   "pygments_lexer": "ipython3",
   "version": "3.12.5"
  }
 },
 "nbformat": 4,
 "nbformat_minor": 2
}
